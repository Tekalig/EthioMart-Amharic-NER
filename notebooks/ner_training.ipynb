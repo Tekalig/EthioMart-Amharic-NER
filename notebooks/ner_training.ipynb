{
 "cells": [
  {
   "metadata": {},
   "cell_type": "code",
   "outputs": [],
   "execution_count": null,
   "source": [
    "import os\n",
    "from sklearn.model_selection import train_test_split\n",
    "from src.ner_training import load_conll_data, prepare_spacy_data, train_ner_model"
   ],
   "id": "3f00a6a424cc1dc3"
  },
  {
   "metadata": {},
   "cell_type": "code",
   "outputs": [],
   "execution_count": null,
   "source": [
    "# Paths\n",
    "data_path = \"../data/labeled_data.conll\"\n",
    "train_data_path = \"../data/train.spacy\"\n",
    "test_data_path = \"../data/test.spacy\"\n",
    "output_model_dir = \"../models/ner_model\""
   ],
   "id": "d481d52e3bde5707"
  },
  {
   "metadata": {},
   "cell_type": "code",
   "outputs": [],
   "execution_count": null,
   "source": [
    "# Step 1: Load labeled data\n",
    "sentences, labels = load_conll_data(data_path)"
   ],
   "id": "a0444f5f57171574"
  },
  {
   "metadata": {},
   "cell_type": "code",
   "outputs": [],
   "execution_count": null,
   "source": [
    "# Step 2: Split data into training and testing sets\n",
    "train_sentences, test_sentences, train_labels, test_labels = train_test_split(\n",
    "    sentences, labels, test_size=0.2, random_state=42\n",
    ")"
   ],
   "id": "a46e39bbe54b3761"
  },
  {
   "metadata": {},
   "cell_type": "code",
   "outputs": [],
   "execution_count": null,
   "source": [
    "# Step 3: Prepare spaCy training data\n",
    "prepare_spacy_data(train_sentences, train_labels, train_data_path)\n",
    "prepare_spacy_data(test_sentences, test_labels, test_data_path)"
   ],
   "id": "8bdf7b60a8e46607"
  },
  {
   "metadata": {},
   "cell_type": "code",
   "outputs": [],
   "execution_count": null,
   "source": [
    "# Step 4: Train the NER model\n",
    "train_ner_model(train_data_path, output_model_dir)\n",
    "\n",
    "print(\"NER training completed!\")"
   ],
   "id": "76257953b4af178d"
  }
 ],
 "metadata": {},
 "nbformat": 5,
 "nbformat_minor": 9
}
