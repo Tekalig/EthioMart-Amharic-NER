{
 "cells": [
  {
   "metadata": {},
   "cell_type": "code",
   "outputs": [],
   "execution_count": null,
   "source": [
    "# Import necessary modules from the src folder\n",
    "import sys\n",
    "import os"
   ],
   "id": "ee1c1c0d936277d7"
  },
  {
   "metadata": {},
   "cell_type": "code",
   "outputs": [],
   "execution_count": null,
   "source": [
    "# Now you can import your functions or classes from the src folder\n",
    "from src.data_ingestion import fetch_messages\n",
    "from src.data_preprocessing import preprocess_data"
   ],
   "id": "2656789ebc47068"
  },
  {
   "metadata": {},
   "cell_type": "code",
   "outputs": [],
   "execution_count": null,
   "source": [
    "# Example of calling the functions\n",
    "data = fetch_messages()\n",
    "processed_data = preprocess_data(data)"
   ],
   "id": "606d995e3a6a475c"
  },
  {
   "metadata": {},
   "cell_type": "code",
   "outputs": [],
   "execution_count": null,
   "source": [
    "# Display or further process the data\n",
    "print(processed_data)"
   ],
   "id": "249f55206651a86e"
  }
 ],
 "metadata": {
  "kernelspec": {
   "display_name": "Python 3",
   "language": "python",
   "name": "python3"
  },
  "language_info": {
   "codemirror_mode": {
    "name": "ipython",
    "version": 2
   },
   "file_extension": ".py",
   "mimetype": "text/x-python",
   "name": "python",
   "nbconvert_exporter": "python",
   "pygments_lexer": "ipython2",
   "version": "2.7.6"
  }
 },
 "nbformat": 4,
 "nbformat_minor": 5
}
