{
 "cells": [
  {
   "metadata": {},
   "cell_type": "code",
   "outputs": [],
   "execution_count": null,
   "source": [
    "# Import functions from the src folder\n",
    "from src.data_labeling import load_raw_data, label_data, save_labeled_data\n",
    "from src.utils import clean_text"
   ],
   "id": "8e27138468dc1867"
  },
  {
   "metadata": {},
   "cell_type": "code",
   "outputs": [],
   "execution_count": null,
   "source": [
    "# Load the raw data (adjust the file path)\n",
    "data = load_raw_data('../data/raw_data.csv')"
   ],
   "id": "294e4202060830cd"
  },
  {
   "metadata": {},
   "cell_type": "code",
   "outputs": [],
   "execution_count": null,
   "source": [
    "# Clean the data (optional, if you want to clean text before labeling)\n",
    "data['Message'] = data['Message'].apply(clean_text)"
   ],
   "id": "81a19bace9b3e083"
  },
  {
   "metadata": {},
   "cell_type": "code",
   "outputs": [],
   "execution_count": null,
   "source": [
    "# Label the data\n",
    "labeled_data = label_data(data)"
   ],
   "id": "c3f7bb88fd0fa593"
  },
  {
   "metadata": {},
   "cell_type": "code",
   "outputs": [],
   "execution_count": null,
   "source": [
    "# Save the labeled data in CoNLL format\n",
    "save_labeled_data(labeled_data, '../data/labeled_data.conll')"
   ],
   "id": "eda94264c4e5eea6"
  },
  {
   "metadata": {},
   "cell_type": "code",
   "outputs": [],
   "execution_count": null,
   "source": "print(\"Data labeling completed and saved in CoNLL format.\")",
   "id": "18a4bf36823b1229"
  }
 ],
 "metadata": {},
 "nbformat": 5,
 "nbformat_minor": 9
}
